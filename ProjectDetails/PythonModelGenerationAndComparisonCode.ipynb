{
 "cells": [
  {
   "cell_type": "markdown",
   "id": "a39ae23f",
   "metadata": {},
   "source": [
    "# Name :  Chetan Shekhar Patil\n",
    "\n",
    "\n",
    "\n",
    "\n",
    "# Project : QNA-Pro Module"
   ]
  },
  {
   "cell_type": "code",
   "execution_count": 4,
   "id": "0db51c48",
   "metadata": {
    "execution": {
     "iopub.execute_input": "2023-03-28T21:04:31.473581Z",
     "iopub.status.busy": "2023-03-28T21:04:31.473168Z",
     "iopub.status.idle": "2023-03-28T21:04:32.872154Z",
     "shell.execute_reply": "2023-03-28T21:04:32.870609Z"
    },
    "papermill": {
     "duration": 1.409591,
     "end_time": "2023-03-28T21:04:32.875425",
     "exception": false,
     "start_time": "2023-03-28T21:04:31.465834",
     "status": "completed"
    },
    "tags": []
   },
   "outputs": [],
   "source": [
    "# Import Libraries\n",
    "\n",
    "import pandas as pd\n",
    "import seaborn as sns\n",
    "import matplotlib.pyplot as plt\n",
    "\n",
    "from sklearn.feature_extraction.text import TfidfVectorizer\n",
    "\n",
    "from sklearn.svm import SVC\n",
    "from sklearn.ensemble import RandomForestClassifier\n",
    "\n",
    "from sklearn.model_selection import train_test_split\n",
    "from sklearn.metrics import accuracy_score, classification_report, confusion_matrix\n",
    "\n",
    "\n",
    "from nltk.corpus import stopwords\n",
    "from nltk.tokenize import word_tokenize\n",
    "import re\n",
    "\n",
    "import warnings\n",
    "warnings.filterwarnings('ignore')"
   ]
  },
  {
   "cell_type": "markdown",
   "id": "b80fb5e1",
   "metadata": {
    "papermill": {
     "duration": 0.004227,
     "end_time": "2023-03-28T21:04:32.883964",
     "exception": false,
     "start_time": "2023-03-28T21:04:32.879737",
     "status": "completed"
    },
    "tags": []
   },
   "source": [
    "Load Dataset"
   ]
  },
  {
   "cell_type": "code",
   "execution_count": 2,
   "id": "13272de9",
   "metadata": {
    "execution": {
     "iopub.execute_input": "2023-03-28T21:04:32.921489Z",
     "iopub.status.busy": "2023-03-28T21:04:32.921085Z",
     "iopub.status.idle": "2023-03-28T21:04:33.789260Z",
     "shell.execute_reply": "2023-03-28T21:04:33.787967Z"
    },
    "papermill": {
     "duration": 0.876195,
     "end_time": "2023-03-28T21:04:33.791620",
     "exception": false,
     "start_time": "2023-03-28T21:04:32.915425",
     "status": "completed"
    },
    "scrolled": true,
    "tags": []
   },
   "outputs": [
    {
     "data": {
      "text/html": [
       "<div>\n",
       "<style scoped>\n",
       "    .dataframe tbody tr th:only-of-type {\n",
       "        vertical-align: middle;\n",
       "    }\n",
       "\n",
       "    .dataframe tbody tr th {\n",
       "        vertical-align: top;\n",
       "    }\n",
       "\n",
       "    .dataframe thead th {\n",
       "        text-align: right;\n",
       "    }\n",
       "</style>\n",
       "<table border=\"1\" class=\"dataframe\">\n",
       "  <thead>\n",
       "    <tr style=\"text-align: right;\">\n",
       "      <th></th>\n",
       "      <th>Class Index</th>\n",
       "      <th>Title</th>\n",
       "      <th>Description</th>\n",
       "    </tr>\n",
       "  </thead>\n",
       "  <tbody>\n",
       "    <tr>\n",
       "      <th>0</th>\n",
       "      <td>3</td>\n",
       "      <td>Wall St. Bears Claw Back Into the Black (Reuters)</td>\n",
       "      <td>Reuters - Short-sellers, Wall Street's dwindli...</td>\n",
       "    </tr>\n",
       "    <tr>\n",
       "      <th>1</th>\n",
       "      <td>3</td>\n",
       "      <td>Carlyle Looks Toward Commercial Aerospace (Reu...</td>\n",
       "      <td>Reuters - Private investment firm Carlyle Grou...</td>\n",
       "    </tr>\n",
       "    <tr>\n",
       "      <th>2</th>\n",
       "      <td>3</td>\n",
       "      <td>Oil and Economy Cloud Stocks' Outlook (Reuters)</td>\n",
       "      <td>Reuters - Soaring crude prices plus worries\\ab...</td>\n",
       "    </tr>\n",
       "    <tr>\n",
       "      <th>3</th>\n",
       "      <td>3</td>\n",
       "      <td>Iraq Halts Oil Exports from Main Southern Pipe...</td>\n",
       "      <td>Reuters - Authorities have halted oil export\\f...</td>\n",
       "    </tr>\n",
       "    <tr>\n",
       "      <th>4</th>\n",
       "      <td>3</td>\n",
       "      <td>Oil prices soar to all-time record, posing new...</td>\n",
       "      <td>AFP - Tearaway world oil prices, toppling reco...</td>\n",
       "    </tr>\n",
       "    <tr>\n",
       "      <th>...</th>\n",
       "      <td>...</td>\n",
       "      <td>...</td>\n",
       "      <td>...</td>\n",
       "    </tr>\n",
       "    <tr>\n",
       "      <th>119995</th>\n",
       "      <td>1</td>\n",
       "      <td>Pakistan's Musharraf Says Won't Quit as Army C...</td>\n",
       "      <td>KARACHI (Reuters) - Pakistani President Perve...</td>\n",
       "    </tr>\n",
       "    <tr>\n",
       "      <th>119996</th>\n",
       "      <td>2</td>\n",
       "      <td>Renteria signing a top-shelf deal</td>\n",
       "      <td>Red Sox general manager Theo Epstein acknowled...</td>\n",
       "    </tr>\n",
       "    <tr>\n",
       "      <th>119997</th>\n",
       "      <td>2</td>\n",
       "      <td>Saban not going to Dolphins yet</td>\n",
       "      <td>The Miami Dolphins will put their courtship of...</td>\n",
       "    </tr>\n",
       "    <tr>\n",
       "      <th>119998</th>\n",
       "      <td>2</td>\n",
       "      <td>Today's NFL games</td>\n",
       "      <td>PITTSBURGH at NY GIANTS Time: 1:30 p.m. Line: ...</td>\n",
       "    </tr>\n",
       "    <tr>\n",
       "      <th>119999</th>\n",
       "      <td>2</td>\n",
       "      <td>Nets get Carter from Raptors</td>\n",
       "      <td>INDIANAPOLIS -- All-Star Vince Carter was trad...</td>\n",
       "    </tr>\n",
       "  </tbody>\n",
       "</table>\n",
       "<p>120000 rows × 3 columns</p>\n",
       "</div>"
      ],
      "text/plain": [
       "        Class Index                                              Title  \\\n",
       "0                 3  Wall St. Bears Claw Back Into the Black (Reuters)   \n",
       "1                 3  Carlyle Looks Toward Commercial Aerospace (Reu...   \n",
       "2                 3    Oil and Economy Cloud Stocks' Outlook (Reuters)   \n",
       "3                 3  Iraq Halts Oil Exports from Main Southern Pipe...   \n",
       "4                 3  Oil prices soar to all-time record, posing new...   \n",
       "...             ...                                                ...   \n",
       "119995            1  Pakistan's Musharraf Says Won't Quit as Army C...   \n",
       "119996            2                  Renteria signing a top-shelf deal   \n",
       "119997            2                    Saban not going to Dolphins yet   \n",
       "119998            2                                  Today's NFL games   \n",
       "119999            2                       Nets get Carter from Raptors   \n",
       "\n",
       "                                              Description  \n",
       "0       Reuters - Short-sellers, Wall Street's dwindli...  \n",
       "1       Reuters - Private investment firm Carlyle Grou...  \n",
       "2       Reuters - Soaring crude prices plus worries\\ab...  \n",
       "3       Reuters - Authorities have halted oil export\\f...  \n",
       "4       AFP - Tearaway world oil prices, toppling reco...  \n",
       "...                                                   ...  \n",
       "119995   KARACHI (Reuters) - Pakistani President Perve...  \n",
       "119996  Red Sox general manager Theo Epstein acknowled...  \n",
       "119997  The Miami Dolphins will put their courtship of...  \n",
       "119998  PITTSBURGH at NY GIANTS Time: 1:30 p.m. Line: ...  \n",
       "119999  INDIANAPOLIS -- All-Star Vince Carter was trad...  \n",
       "\n",
       "[120000 rows x 3 columns]"
      ]
     },
     "execution_count": 2,
     "metadata": {},
     "output_type": "execute_result"
    }
   ],
   "source": [
    "df = pd.read_csv('train.csv')\n",
    "df"
   ]
  },
  {
   "cell_type": "code",
   "execution_count": 3,
   "id": "cc73af75",
   "metadata": {
    "execution": {
     "iopub.execute_input": "2023-03-28T21:04:33.802813Z",
     "iopub.status.busy": "2023-03-28T21:04:33.801756Z",
     "iopub.status.idle": "2023-03-28T21:04:33.808809Z",
     "shell.execute_reply": "2023-03-28T21:04:33.808055Z"
    },
    "papermill": {
     "duration": 0.014862,
     "end_time": "2023-03-28T21:04:33.810922",
     "exception": false,
     "start_time": "2023-03-28T21:04:33.796060",
     "status": "completed"
    },
    "tags": []
   },
   "outputs": [
    {
     "data": {
      "text/plain": [
       "Index(['Class Index', 'Title', 'Description'], dtype='object')"
      ]
     },
     "execution_count": 3,
     "metadata": {},
     "output_type": "execute_result"
    }
   ],
   "source": [
    "# View Column Headers\n",
    "df.columns"
   ]
  },
  {
   "cell_type": "code",
   "execution_count": 4,
   "id": "44194288",
   "metadata": {
    "execution": {
     "iopub.execute_input": "2023-03-28T21:04:33.821612Z",
     "iopub.status.busy": "2023-03-28T21:04:33.821038Z",
     "iopub.status.idle": "2023-03-28T21:04:33.845422Z",
     "shell.execute_reply": "2023-03-28T21:04:33.844558Z"
    },
    "papermill": {
     "duration": 0.032423,
     "end_time": "2023-03-28T21:04:33.847754",
     "exception": false,
     "start_time": "2023-03-28T21:04:33.815331",
     "status": "completed"
    },
    "tags": []
   },
   "outputs": [
    {
     "name": "stdout",
     "output_type": "stream",
     "text": [
      "Class Index    0\n",
      "Title          0\n",
      "Description    0\n",
      "dtype: int64\n",
      "Class Index         4\n",
      "Title          114350\n",
      "Description    118723\n",
      "dtype: int64\n"
     ]
    }
   ],
   "source": [
    "# Checking null values in the dataset\n",
    "print(df.isna().sum())\n",
    "print(df.nunique())"
   ]
  },
  {
   "cell_type": "code",
   "execution_count": 5,
   "id": "1cb55fbc",
   "metadata": {},
   "outputs": [
    {
     "data": {
      "text/plain": [
       "[3, 4, 2, 1]"
      ]
     },
     "execution_count": 5,
     "metadata": {},
     "output_type": "execute_result"
    }
   ],
   "source": [
    "categories = df['Class Index'].unique().tolist()\n",
    "categories\n",
    "# 1 : World \n",
    "# 2 : Sports\n",
    "# 3 : Business\n",
    "# 4 : Science"
   ]
  },
  {
   "cell_type": "code",
   "execution_count": 6,
   "id": "a3fe3566",
   "metadata": {
    "scrolled": true
   },
   "outputs": [
    {
     "data": {
      "image/png": "[encoded data removed]",
      "text/plain": [
       "<Figure size 500x500 with 1 Axes>"
      ]
     },
     "metadata": {},
     "output_type": "display_data"
    }
   ],
   "source": [
    "train_cats = df.groupby(by='Class Index').size()\n",
    "fig, (ax1) = plt.subplots(1)\n",
    "fig.set_size_inches(5,5)\n",
    "# Ploting the data share for each category\n",
    "ax1.pie(train_cats, labels=train_cats.index, autopct='%1.1f%%', startangle=90)\n",
    "\n",
    "plt.show()\n",
    "\n",
    "# 1 : World \n",
    "# 2 : Sports\n",
    "# 3 : Business\n",
    "# 4 : Science"
   ]
  },
  {
   "cell_type": "code",
   "execution_count": 7,
   "id": "2d116be7",
   "metadata": {},
   "outputs": [
    {
     "name": "stdout",
     "output_type": "stream",
     "text": [
      "Duplicates in Training Data 5650\n"
     ]
    }
   ],
   "source": [
    "# Duplicates Count\n",
    "print('Duplicates in Training Data', df.duplicated(subset=['Title']).sum())"
   ]
  },
  {
   "cell_type": "code",
   "execution_count": 9,
   "id": "44ba104a",
   "metadata": {},
   "outputs": [],
   "source": [
    "# Clean up Duplicates\n",
    "df = df.drop_duplicates(subset=['Title'])"
   ]
  },
  {
   "cell_type": "code",
   "execution_count": 10,
   "id": "77d69c51",
   "metadata": {},
   "outputs": [
    {
     "name": "stdout",
     "output_type": "stream",
     "text": [
      "Duplicates in Training Data 0\n"
     ]
    }
   ],
   "source": [
    "# Identify Duplicates Count\n",
    "print('Duplicates in Training Data', df.duplicated(subset=['Title']).sum())"
   ]
  },
  {
   "cell_type": "code",
   "execution_count": 11,
   "id": "38b90789",
   "metadata": {},
   "outputs": [
    {
     "name": "stdout",
     "output_type": "stream",
     "text": [
      "shape after duplicate removal:  (114350, 3)\n"
     ]
    }
   ],
   "source": [
    "print('shape after duplicate removal: ', df.shape)"
   ]
  },
  {
   "cell_type": "markdown",
   "id": "709d90e0",
   "metadata": {},
   "source": [
    "Cleanup & Preprocessing"
   ]
  },
  {
   "cell_type": "code",
   "execution_count": 13,
   "id": "72b4e8cd",
   "metadata": {},
   "outputs": [],
   "source": [
    "stopwords_en = set(stopwords.words('english'))\n",
    "def clean_white_spaces(text):\n",
    "    # Replace\n",
    "    text = text.lower().replace('\\n', ' ').replace('\\r', '').strip()\n",
    "    # Replacing multiple spaces\n",
    "    text = re.sub(' +', ' ', text)\n",
    "    # Replacing all numeric or special characters\n",
    "    text = re.sub(r'[^\\w\\s]', '', text)\n",
    "    \n",
    "    # Remove stop words\n",
    "    tokens = word_tokenize(text)\n",
    "    tokens = [w for w in tokens if not w in stopwords_en]\n",
    "    text = ' '.join(tokens)\n",
    "    \n",
    "    return text\n",
    "    "
   ]
  },
  {
   "cell_type": "code",
   "execution_count": 14,
   "id": "1c452d14",
   "metadata": {},
   "outputs": [
    {
     "data": {
      "text/html": [
       "<div>\n",
       "<style scoped>\n",
       "    .dataframe tbody tr th:only-of-type {\n",
       "        vertical-align: middle;\n",
       "    }\n",
       "\n",
       "    .dataframe tbody tr th {\n",
       "        vertical-align: top;\n",
       "    }\n",
       "\n",
       "    .dataframe thead th {\n",
       "        text-align: right;\n",
       "    }\n",
       "</style>\n",
       "<table border=\"1\" class=\"dataframe\">\n",
       "  <thead>\n",
       "    <tr style=\"text-align: right;\">\n",
       "      <th></th>\n",
       "      <th>Class Index</th>\n",
       "      <th>Title</th>\n",
       "      <th>Description</th>\n",
       "    </tr>\n",
       "  </thead>\n",
       "  <tbody>\n",
       "    <tr>\n",
       "      <th>0</th>\n",
       "      <td>3</td>\n",
       "      <td>wall st bears claw back black reuters</td>\n",
       "      <td>reuters shortsellers wall streets dwindlingban...</td>\n",
       "    </tr>\n",
       "    <tr>\n",
       "      <th>1</th>\n",
       "      <td>3</td>\n",
       "      <td>carlyle looks toward commercial aerospace reuters</td>\n",
       "      <td>reuters private investment firm carlyle groupw...</td>\n",
       "    </tr>\n",
       "    <tr>\n",
       "      <th>2</th>\n",
       "      <td>3</td>\n",
       "      <td>oil economy cloud stocks outlook reuters</td>\n",
       "      <td>reuters soaring crude prices plus worriesabout...</td>\n",
       "    </tr>\n",
       "    <tr>\n",
       "      <th>3</th>\n",
       "      <td>3</td>\n",
       "      <td>iraq halts oil exports main southern pipeline ...</td>\n",
       "      <td>reuters authorities halted oil exportflows mai...</td>\n",
       "    </tr>\n",
       "    <tr>\n",
       "      <th>4</th>\n",
       "      <td>3</td>\n",
       "      <td>oil prices soar alltime record posing new mena...</td>\n",
       "      <td>afp tearaway world oil prices toppling records...</td>\n",
       "    </tr>\n",
       "  </tbody>\n",
       "</table>\n",
       "</div>"
      ],
      "text/plain": [
       "   Class Index                                              Title  \\\n",
       "0            3              wall st bears claw back black reuters   \n",
       "1            3  carlyle looks toward commercial aerospace reuters   \n",
       "2            3           oil economy cloud stocks outlook reuters   \n",
       "3            3  iraq halts oil exports main southern pipeline ...   \n",
       "4            3  oil prices soar alltime record posing new mena...   \n",
       "\n",
       "                                         Description  \n",
       "0  reuters shortsellers wall streets dwindlingban...  \n",
       "1  reuters private investment firm carlyle groupw...  \n",
       "2  reuters soaring crude prices plus worriesabout...  \n",
       "3  reuters authorities halted oil exportflows mai...  \n",
       "4  afp tearaway world oil prices toppling records...  "
      ]
     },
     "execution_count": 14,
     "metadata": {},
     "output_type": "execute_result"
    }
   ],
   "source": [
    "df['Title'] = df['Title'].apply(clean_white_spaces)\n",
    "df['Description'] = df['Description'].apply(clean_white_spaces)\n",
    "df.head()"
   ]
  },
  {
   "cell_type": "code",
   "execution_count": 15,
   "id": "4b2f2612",
   "metadata": {},
   "outputs": [],
   "source": [
    "df['Text'] = df['Title'] + ' ' + df['Description']\n",
    "df.drop(['Title', 'Description'], axis=1, inplace=True)"
   ]
  },
  {
   "cell_type": "code",
   "execution_count": 16,
   "id": "6d94e4a7",
   "metadata": {},
   "outputs": [
    {
     "data": {
      "text/html": [
       "<div>\n",
       "<style scoped>\n",
       "    .dataframe tbody tr th:only-of-type {\n",
       "        vertical-align: middle;\n",
       "    }\n",
       "\n",
       "    .dataframe tbody tr th {\n",
       "        vertical-align: top;\n",
       "    }\n",
       "\n",
       "    .dataframe thead th {\n",
       "        text-align: right;\n",
       "    }\n",
       "</style>\n",
       "<table border=\"1\" class=\"dataframe\">\n",
       "  <thead>\n",
       "    <tr style=\"text-align: right;\">\n",
       "      <th></th>\n",
       "      <th>Class Index</th>\n",
       "      <th>Text</th>\n",
       "    </tr>\n",
       "  </thead>\n",
       "  <tbody>\n",
       "    <tr>\n",
       "      <th>0</th>\n",
       "      <td>3</td>\n",
       "      <td>wall st bears claw back black reuters reuters ...</td>\n",
       "    </tr>\n",
       "    <tr>\n",
       "      <th>1</th>\n",
       "      <td>3</td>\n",
       "      <td>carlyle looks toward commercial aerospace reut...</td>\n",
       "    </tr>\n",
       "    <tr>\n",
       "      <th>2</th>\n",
       "      <td>3</td>\n",
       "      <td>oil economy cloud stocks outlook reuters reute...</td>\n",
       "    </tr>\n",
       "    <tr>\n",
       "      <th>3</th>\n",
       "      <td>3</td>\n",
       "      <td>iraq halts oil exports main southern pipeline ...</td>\n",
       "    </tr>\n",
       "    <tr>\n",
       "      <th>4</th>\n",
       "      <td>3</td>\n",
       "      <td>oil prices soar alltime record posing new mena...</td>\n",
       "    </tr>\n",
       "  </tbody>\n",
       "</table>\n",
       "</div>"
      ],
      "text/plain": [
       "   Class Index                                               Text\n",
       "0            3  wall st bears claw back black reuters reuters ...\n",
       "1            3  carlyle looks toward commercial aerospace reut...\n",
       "2            3  oil economy cloud stocks outlook reuters reute...\n",
       "3            3  iraq halts oil exports main southern pipeline ...\n",
       "4            3  oil prices soar alltime record posing new mena..."
      ]
     },
     "execution_count": 16,
     "metadata": {},
     "output_type": "execute_result"
    }
   ],
   "source": [
    "df.head()"
   ]
  },
  {
   "cell_type": "markdown",
   "id": "ddd83175",
   "metadata": {
    "papermill": {
     "duration": 0.004583,
     "end_time": "2023-03-28T21:04:34.105064",
     "exception": false,
     "start_time": "2023-03-28T21:04:34.100481",
     "status": "completed"
    },
    "tags": []
   },
   "source": [
    "TF-IDF "
   ]
  },
  {
   "cell_type": "code",
   "execution_count": 34,
   "id": "037dc294",
   "metadata": {
    "execution": {
     "iopub.execute_input": "2023-03-28T21:04:34.117045Z",
     "iopub.status.busy": "2023-03-28T21:04:34.115842Z",
     "iopub.status.idle": "2023-03-28T21:04:38.074716Z",
     "shell.execute_reply": "2023-03-28T21:04:38.073468Z"
    },
    "papermill": {
     "duration": 3.967742,
     "end_time": "2023-03-28T21:04:38.077511",
     "exception": false,
     "start_time": "2023-03-28T21:04:34.109769",
     "status": "completed"
    },
    "tags": []
   },
   "outputs": [],
   "source": [
    "# creating TF-IDF vectorizer\n",
    "vectorizer = TfidfVectorizer()\n",
    "\n",
    "# vectorize the text data\n",
    "X = vectorizer.fit_transform(df['Text'])\n",
    "# target\n",
    "y = df['Class Index']"
   ]
  },
  {
   "cell_type": "code",
   "execution_count": 23,
   "id": "8dfa99b1",
   "metadata": {},
   "outputs": [],
   "source": [
    "import joblib"
   ]
  },
  {
   "cell_type": "code",
   "execution_count": 24,
   "id": "bf4fa42a",
   "metadata": {},
   "outputs": [
    {
     "data": {
      "text/plain": [
       "['vectorizer2New.pkl']"
      ]
     },
     "execution_count": 24,
     "metadata": {},
     "output_type": "execute_result"
    }
   ],
   "source": [
    "joblib.dump(vectorizer, 'vectorizer2New.pkl')"
   ]
  },
  {
   "cell_type": "markdown",
   "id": "06dfd36b",
   "metadata": {
    "papermill": {
     "duration": 0.004647,
     "end_time": "2023-03-28T21:04:38.087154",
     "exception": false,
     "start_time": "2023-03-28T21:04:38.082507",
     "status": "completed"
    },
    "tags": []
   },
   "source": [
    "Model Training - Linear SVC"
   ]
  },
  {
   "cell_type": "code",
   "execution_count": 16,
   "id": "a4b6bead",
   "metadata": {},
   "outputs": [],
   "source": [
    "# split the data into training and testing sets\n",
    "X_train, X_test, y_train, y_test = train_test_split(X, y, test_size=0.2, random_state=42)"
   ]
  },
  {
   "cell_type": "code",
   "execution_count": 17,
   "id": "cfde86de",
   "metadata": {},
   "outputs": [],
   "source": [
    "# train a SVM classifier on the training data\n",
    "clf = SVC(kernel='linear').fit(X_train, y_train)"
   ]
  },
  {
   "cell_type": "markdown",
   "id": "b27f21ca",
   "metadata": {
    "papermill": {
     "duration": 0.004738,
     "end_time": "2023-03-28T21:48:47.508073",
     "exception": false,
     "start_time": "2023-03-28T21:48:47.503335",
     "status": "completed"
    },
    "tags": []
   },
   "source": [
    "SVC Model Testing"
   ]
  },
  {
   "cell_type": "code",
   "execution_count": 18,
   "id": "b31d7f03",
   "metadata": {
    "execution": {
     "iopub.execute_input": "2023-03-28T21:48:47.519507Z",
     "iopub.status.busy": "2023-03-28T21:48:47.519119Z",
     "iopub.status.idle": "2023-03-28T21:52:57.073544Z",
     "shell.execute_reply": "2023-03-28T21:52:57.072548Z"
    },
    "papermill": {
     "duration": 249.563314,
     "end_time": "2023-03-28T21:52:57.076231",
     "exception": false,
     "start_time": "2023-03-28T21:48:47.512917",
     "status": "completed"
    },
    "tags": []
   },
   "outputs": [],
   "source": [
    "# make predictions on the test data\n",
    "y_pred = clf.predict(X_test)"
   ]
  },
  {
   "cell_type": "markdown",
   "id": "92a96038",
   "metadata": {
    "papermill": {
     "duration": 0.005218,
     "end_time": "2023-03-28T21:52:57.086847",
     "exception": false,
     "start_time": "2023-03-28T21:52:57.081629",
     "status": "completed"
    },
    "tags": []
   },
   "source": [
    "SVC Model Evaluation"
   ]
  },
  {
   "cell_type": "code",
   "execution_count": 1,
   "id": "d396d8da",
   "metadata": {
    "execution": {
     "iopub.execute_input": "2023-03-28T21:52:57.098401Z",
     "iopub.status.busy": "2023-03-28T21:52:57.097743Z",
     "iopub.status.idle": "2023-03-28T21:52:57.464112Z",
     "shell.execute_reply": "2023-03-28T21:52:57.462827Z"
    },
    "papermill": {
     "duration": 0.375151,
     "end_time": "2023-03-28T21:52:57.466798",
     "exception": false,
     "start_time": "2023-03-28T21:52:57.091647",
     "status": "completed"
    },
    "scrolled": true,
    "tags": []
   },
   "outputs": [
    {
     "name": "stdout",
     "output_type": "stream",
     "text": [
      "\n",
      "Accuracy: 91.981 %\n"
     ]
    }
   ],
   "source": [
    "# evaluate the performance of the classifier\n",
    "\n",
    "accuracy = accuracy_score(y_test, y_pred)\n",
    "print(\"\\nAccuracy: \",round(accuracy*100,3),\"%\")\n"
   ]
  },
  {
   "cell_type": "markdown",
   "id": "4eb4440c",
   "metadata": {},
   "source": [
    "Model Training - Random Forest"
   ]
  },
  {
   "cell_type": "code",
   "execution_count": 6,
   "id": "79f1c633",
   "metadata": {},
   "outputs": [],
   "source": [
    "# create the random forest classifier\n",
    "rf_model = RandomForestClassifier(n_estimators=100, random_state=42)\n",
    "\n",
    "# fit the model on the training data\n",
    "rf_model.fit(X_train, y_train)"
   ]
  },
  {
   "cell_type": "markdown",
   "id": "8d9c6d12",
   "metadata": {},
   "source": [
    "RF Model Testing"
   ]
  },
  {
   "cell_type": "code",
   "execution_count": 21,
   "id": "3d213bd8",
   "metadata": {},
   "outputs": [],
   "source": [
    "# evaluate the model on the testing data\n",
    "y_pred2 = rf_model.predict(X_test)"
   ]
  },
  {
   "cell_type": "markdown",
   "id": "39097d76",
   "metadata": {},
   "source": [
    "RF Model Evaluation"
   ]
  },
  {
   "cell_type": "code",
   "execution_count": 7,
   "id": "191766e4",
   "metadata": {},
   "outputs": [
    {
     "name": "stdout",
     "output_type": "stream",
     "text": [
      "Accuracy:  79.624 %\n"
     ]
    }
   ],
   "source": [
    "# evaluate the performance of the classifier\n",
    "\n",
    "accuracy = accuracy_score(y_test, y_pred2)\n",
    "print(\"\\nAccuracy: \",round(accuracy*100,3),\"%\")"
   ]
  },
  {
   "cell_type": "code",
   "execution_count": 25,
   "id": "612ba311",
   "metadata": {},
   "outputs": [
    {
     "data": {
      "text/plain": [
       "['model2NEW.pkl']"
      ]
     },
     "execution_count": 25,
     "metadata": {},
     "output_type": "execute_result"
    }
   ],
   "source": [
    "joblib.dump(clf, 'model2NEW.pkl')"
   ]
  }
 ],
 "metadata": {
  "kernelspec": {
   "display_name": "Python 3 (ipykernel)",
   "language": "python",
   "name": "python3"
  },
  "language_info": {
   "codemirror_mode": {
    "name": "ipython",
    "version": 3
   },
   "file_extension": ".py",
   "mimetype": "text/x-python",
   "name": "python",
   "nbconvert_exporter": "python",
   "pygments_lexer": "ipython3",
   "version": "3.9.13"
  },
  "papermill": {
   "default_parameters": {},
   "duration": 2916.824778,
   "end_time": "2023-03-28T21:52:58.304222",
   "environment_variables": {},
   "exception": null,
   "input_path": "__notebook__.ipynb",
   "output_path": "__notebook__.ipynb",
   "parameters": {},
   "start_time": "2023-03-28T21:04:21.479444",
   "version": "2.4.0"
  }
 },
 "nbformat": 4,
 "nbformat_minor": 5
}
